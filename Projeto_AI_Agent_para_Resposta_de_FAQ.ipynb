{
  "nbformat": 4,
  "nbformat_minor": 0,
  "metadata": {
    "colab": {
      "provenance": []
    },
    "kernelspec": {
      "name": "python3",
      "display_name": "Python 3"
    },
    "language_info": {
      "name": "python"
    }
  },
  "cells": [
    {
      "cell_type": "markdown",
      "source": [
        "# Projeto: AI Agent para Resposta de FAQ\n",
        "\n",
        "Este notebook implementa um **AI Agent** que utiliza técnicas avançadas de **RAG** (Retrieval-Augmented Generation) para responder a perguntas frequentes de clientes de uma loja fictícia de roupas online, a **ModaZen**.\n",
        "\n",
        "O objetivo é demonstrar como a combinação de um LLM e sistemas de recuperação de informações(RAG) pode melhorar o atendimento ao cliente.\n",
        "\n",
        "**Tecnologias usadas:**\n",
        "- **Langchain**: Framework para trabalhar com IA.\n",
        "- **RAG**: Técnica baseada em retrieval, que usa uma base de conhecimento (FAQ) para gerar respostas precisas e sem alucinação.\n",
        "- **DeepSeek**: Modelo de LLM open-source e gratuito, poderoso usado para a geração de respostas.:\n",
        "\n",
        "---\n",
        "\n"
      ],
      "metadata": {
        "id": "jm4SgtTVY7vz"
      }
    },
    {
      "cell_type": "code",
      "source": [
        "# Instale as dependências necessárias\n",
        "!pip install chromadb sentence-transformers\n",
        "!pip install ollama --quiet\n",
        "!pip install langchain langchain-core langchain-community chromadb langchain-openai --quiet"
      ],
      "metadata": {
        "colab": {
          "base_uri": "https://localhost:8080/"
        },
        "id": "CPiNhdM_9T--",
        "outputId": "5d3b09cc-de5f-49f7-be2d-d3e686aa3d08"
      },
      "execution_count": 1,
      "outputs": [
        {
          "output_type": "stream",
          "name": "stdout",
          "text": [
            "Requirement already satisfied: chromadb in /usr/local/lib/python3.11/dist-packages (0.6.3)\n",
            "Requirement already satisfied: sentence-transformers in /usr/local/lib/python3.11/dist-packages (3.3.1)\n",
            "Requirement already satisfied: build>=1.0.3 in /usr/local/lib/python3.11/dist-packages (from chromadb) (1.2.2.post1)\n",
            "Requirement already satisfied: pydantic>=1.9 in /usr/local/lib/python3.11/dist-packages (from chromadb) (2.10.5)\n",
            "Requirement already satisfied: chroma-hnswlib==0.7.6 in /usr/local/lib/python3.11/dist-packages (from chromadb) (0.7.6)\n",
            "Requirement already satisfied: fastapi>=0.95.2 in /usr/local/lib/python3.11/dist-packages (from chromadb) (0.115.7)\n",
            "Requirement already satisfied: uvicorn>=0.18.3 in /usr/local/lib/python3.11/dist-packages (from uvicorn[standard]>=0.18.3->chromadb) (0.34.0)\n",
            "Requirement already satisfied: numpy>=1.22.5 in /usr/local/lib/python3.11/dist-packages (from chromadb) (1.26.4)\n",
            "Requirement already satisfied: posthog>=2.4.0 in /usr/local/lib/python3.11/dist-packages (from chromadb) (3.10.0)\n",
            "Requirement already satisfied: typing_extensions>=4.5.0 in /usr/local/lib/python3.11/dist-packages (from chromadb) (4.12.2)\n",
            "Requirement already satisfied: onnxruntime>=1.14.1 in /usr/local/lib/python3.11/dist-packages (from chromadb) (1.20.1)\n",
            "Requirement already satisfied: opentelemetry-api>=1.2.0 in /usr/local/lib/python3.11/dist-packages (from chromadb) (1.29.0)\n",
            "Requirement already satisfied: opentelemetry-exporter-otlp-proto-grpc>=1.2.0 in /usr/local/lib/python3.11/dist-packages (from chromadb) (1.29.0)\n",
            "Requirement already satisfied: opentelemetry-instrumentation-fastapi>=0.41b0 in /usr/local/lib/python3.11/dist-packages (from chromadb) (0.50b0)\n",
            "Requirement already satisfied: opentelemetry-sdk>=1.2.0 in /usr/local/lib/python3.11/dist-packages (from chromadb) (1.29.0)\n",
            "Requirement already satisfied: tokenizers>=0.13.2 in /usr/local/lib/python3.11/dist-packages (from chromadb) (0.21.0)\n",
            "Requirement already satisfied: pypika>=0.48.9 in /usr/local/lib/python3.11/dist-packages (from chromadb) (0.48.9)\n",
            "Requirement already satisfied: tqdm>=4.65.0 in /usr/local/lib/python3.11/dist-packages (from chromadb) (4.67.1)\n",
            "Requirement already satisfied: overrides>=7.3.1 in /usr/local/lib/python3.11/dist-packages (from chromadb) (7.7.0)\n",
            "Requirement already satisfied: importlib-resources in /usr/local/lib/python3.11/dist-packages (from chromadb) (6.5.2)\n",
            "Requirement already satisfied: grpcio>=1.58.0 in /usr/local/lib/python3.11/dist-packages (from chromadb) (1.69.0)\n",
            "Requirement already satisfied: bcrypt>=4.0.1 in /usr/local/lib/python3.11/dist-packages (from chromadb) (4.2.1)\n",
            "Requirement already satisfied: typer>=0.9.0 in /usr/local/lib/python3.11/dist-packages (from chromadb) (0.15.1)\n",
            "Requirement already satisfied: kubernetes>=28.1.0 in /usr/local/lib/python3.11/dist-packages (from chromadb) (32.0.0)\n",
            "Requirement already satisfied: tenacity>=8.2.3 in /usr/local/lib/python3.11/dist-packages (from chromadb) (9.0.0)\n",
            "Requirement already satisfied: PyYAML>=6.0.0 in /usr/local/lib/python3.11/dist-packages (from chromadb) (6.0.2)\n",
            "Requirement already satisfied: mmh3>=4.0.1 in /usr/local/lib/python3.11/dist-packages (from chromadb) (5.1.0)\n",
            "Requirement already satisfied: orjson>=3.9.12 in /usr/local/lib/python3.11/dist-packages (from chromadb) (3.10.15)\n",
            "Requirement already satisfied: httpx>=0.27.0 in /usr/local/lib/python3.11/dist-packages (from chromadb) (0.28.1)\n",
            "Requirement already satisfied: rich>=10.11.0 in /usr/local/lib/python3.11/dist-packages (from chromadb) (13.9.4)\n",
            "Requirement already satisfied: transformers<5.0.0,>=4.41.0 in /usr/local/lib/python3.11/dist-packages (from sentence-transformers) (4.47.1)\n",
            "Requirement already satisfied: torch>=1.11.0 in /usr/local/lib/python3.11/dist-packages (from sentence-transformers) (2.5.1+cu121)\n",
            "Requirement already satisfied: scikit-learn in /usr/local/lib/python3.11/dist-packages (from sentence-transformers) (1.6.1)\n",
            "Requirement already satisfied: scipy in /usr/local/lib/python3.11/dist-packages (from sentence-transformers) (1.13.1)\n",
            "Requirement already satisfied: huggingface-hub>=0.20.0 in /usr/local/lib/python3.11/dist-packages (from sentence-transformers) (0.27.1)\n",
            "Requirement already satisfied: Pillow in /usr/local/lib/python3.11/dist-packages (from sentence-transformers) (11.1.0)\n",
            "Requirement already satisfied: packaging>=19.1 in /usr/local/lib/python3.11/dist-packages (from build>=1.0.3->chromadb) (24.2)\n",
            "Requirement already satisfied: pyproject_hooks in /usr/local/lib/python3.11/dist-packages (from build>=1.0.3->chromadb) (1.2.0)\n",
            "Requirement already satisfied: starlette<0.46.0,>=0.40.0 in /usr/local/lib/python3.11/dist-packages (from fastapi>=0.95.2->chromadb) (0.45.3)\n",
            "Requirement already satisfied: anyio in /usr/local/lib/python3.11/dist-packages (from httpx>=0.27.0->chromadb) (3.7.1)\n",
            "Requirement already satisfied: certifi in /usr/local/lib/python3.11/dist-packages (from httpx>=0.27.0->chromadb) (2024.12.14)\n",
            "Requirement already satisfied: httpcore==1.* in /usr/local/lib/python3.11/dist-packages (from httpx>=0.27.0->chromadb) (1.0.7)\n",
            "Requirement already satisfied: idna in /usr/local/lib/python3.11/dist-packages (from httpx>=0.27.0->chromadb) (3.10)\n",
            "Requirement already satisfied: h11<0.15,>=0.13 in /usr/local/lib/python3.11/dist-packages (from httpcore==1.*->httpx>=0.27.0->chromadb) (0.14.0)\n",
            "Requirement already satisfied: filelock in /usr/local/lib/python3.11/dist-packages (from huggingface-hub>=0.20.0->sentence-transformers) (3.17.0)\n",
            "Requirement already satisfied: fsspec>=2023.5.0 in /usr/local/lib/python3.11/dist-packages (from huggingface-hub>=0.20.0->sentence-transformers) (2024.10.0)\n",
            "Requirement already satisfied: requests in /usr/local/lib/python3.11/dist-packages (from huggingface-hub>=0.20.0->sentence-transformers) (2.32.3)\n",
            "Requirement already satisfied: six>=1.9.0 in /usr/local/lib/python3.11/dist-packages (from kubernetes>=28.1.0->chromadb) (1.17.0)\n",
            "Requirement already satisfied: python-dateutil>=2.5.3 in /usr/local/lib/python3.11/dist-packages (from kubernetes>=28.1.0->chromadb) (2.8.2)\n",
            "Requirement already satisfied: google-auth>=1.0.1 in /usr/local/lib/python3.11/dist-packages (from kubernetes>=28.1.0->chromadb) (2.27.0)\n",
            "Requirement already satisfied: websocket-client!=0.40.0,!=0.41.*,!=0.42.*,>=0.32.0 in /usr/local/lib/python3.11/dist-packages (from kubernetes>=28.1.0->chromadb) (1.8.0)\n",
            "Requirement already satisfied: requests-oauthlib in /usr/local/lib/python3.11/dist-packages (from kubernetes>=28.1.0->chromadb) (1.3.1)\n",
            "Requirement already satisfied: oauthlib>=3.2.2 in /usr/local/lib/python3.11/dist-packages (from kubernetes>=28.1.0->chromadb) (3.2.2)\n",
            "Requirement already satisfied: urllib3>=1.24.2 in /usr/local/lib/python3.11/dist-packages (from kubernetes>=28.1.0->chromadb) (2.3.0)\n",
            "Requirement already satisfied: durationpy>=0.7 in /usr/local/lib/python3.11/dist-packages (from kubernetes>=28.1.0->chromadb) (0.9)\n",
            "Requirement already satisfied: coloredlogs in /usr/local/lib/python3.11/dist-packages (from onnxruntime>=1.14.1->chromadb) (15.0.1)\n",
            "Requirement already satisfied: flatbuffers in /usr/local/lib/python3.11/dist-packages (from onnxruntime>=1.14.1->chromadb) (25.1.21)\n",
            "Requirement already satisfied: protobuf in /usr/local/lib/python3.11/dist-packages (from onnxruntime>=1.14.1->chromadb) (5.29.3)\n",
            "Requirement already satisfied: sympy in /usr/local/lib/python3.11/dist-packages (from onnxruntime>=1.14.1->chromadb) (1.13.1)\n",
            "Requirement already satisfied: deprecated>=1.2.6 in /usr/local/lib/python3.11/dist-packages (from opentelemetry-api>=1.2.0->chromadb) (1.2.15)\n",
            "Requirement already satisfied: importlib-metadata<=8.5.0,>=6.0 in /usr/local/lib/python3.11/dist-packages (from opentelemetry-api>=1.2.0->chromadb) (8.5.0)\n",
            "Requirement already satisfied: googleapis-common-protos~=1.52 in /usr/local/lib/python3.11/dist-packages (from opentelemetry-exporter-otlp-proto-grpc>=1.2.0->chromadb) (1.66.0)\n",
            "Requirement already satisfied: opentelemetry-exporter-otlp-proto-common==1.29.0 in /usr/local/lib/python3.11/dist-packages (from opentelemetry-exporter-otlp-proto-grpc>=1.2.0->chromadb) (1.29.0)\n",
            "Requirement already satisfied: opentelemetry-proto==1.29.0 in /usr/local/lib/python3.11/dist-packages (from opentelemetry-exporter-otlp-proto-grpc>=1.2.0->chromadb) (1.29.0)\n",
            "Requirement already satisfied: opentelemetry-instrumentation-asgi==0.50b0 in /usr/local/lib/python3.11/dist-packages (from opentelemetry-instrumentation-fastapi>=0.41b0->chromadb) (0.50b0)\n",
            "Requirement already satisfied: opentelemetry-instrumentation==0.50b0 in /usr/local/lib/python3.11/dist-packages (from opentelemetry-instrumentation-fastapi>=0.41b0->chromadb) (0.50b0)\n",
            "Requirement already satisfied: opentelemetry-semantic-conventions==0.50b0 in /usr/local/lib/python3.11/dist-packages (from opentelemetry-instrumentation-fastapi>=0.41b0->chromadb) (0.50b0)\n",
            "Requirement already satisfied: opentelemetry-util-http==0.50b0 in /usr/local/lib/python3.11/dist-packages (from opentelemetry-instrumentation-fastapi>=0.41b0->chromadb) (0.50b0)\n",
            "Requirement already satisfied: wrapt<2.0.0,>=1.0.0 in /usr/local/lib/python3.11/dist-packages (from opentelemetry-instrumentation==0.50b0->opentelemetry-instrumentation-fastapi>=0.41b0->chromadb) (1.17.2)\n",
            "Requirement already satisfied: asgiref~=3.0 in /usr/local/lib/python3.11/dist-packages (from opentelemetry-instrumentation-asgi==0.50b0->opentelemetry-instrumentation-fastapi>=0.41b0->chromadb) (3.8.1)\n",
            "Requirement already satisfied: monotonic>=1.5 in /usr/local/lib/python3.11/dist-packages (from posthog>=2.4.0->chromadb) (1.6)\n",
            "Requirement already satisfied: backoff>=1.10.0 in /usr/local/lib/python3.11/dist-packages (from posthog>=2.4.0->chromadb) (2.2.1)\n",
            "Requirement already satisfied: annotated-types>=0.6.0 in /usr/local/lib/python3.11/dist-packages (from pydantic>=1.9->chromadb) (0.7.0)\n",
            "Requirement already satisfied: pydantic-core==2.27.2 in /usr/local/lib/python3.11/dist-packages (from pydantic>=1.9->chromadb) (2.27.2)\n",
            "Requirement already satisfied: markdown-it-py>=2.2.0 in /usr/local/lib/python3.11/dist-packages (from rich>=10.11.0->chromadb) (3.0.0)\n",
            "Requirement already satisfied: pygments<3.0.0,>=2.13.0 in /usr/local/lib/python3.11/dist-packages (from rich>=10.11.0->chromadb) (2.18.0)\n",
            "Requirement already satisfied: networkx in /usr/local/lib/python3.11/dist-packages (from torch>=1.11.0->sentence-transformers) (3.4.2)\n",
            "Requirement already satisfied: jinja2 in /usr/local/lib/python3.11/dist-packages (from torch>=1.11.0->sentence-transformers) (3.1.5)\n",
            "Requirement already satisfied: nvidia-cuda-nvrtc-cu12==12.1.105 in /usr/local/lib/python3.11/dist-packages (from torch>=1.11.0->sentence-transformers) (12.1.105)\n",
            "Requirement already satisfied: nvidia-cuda-runtime-cu12==12.1.105 in /usr/local/lib/python3.11/dist-packages (from torch>=1.11.0->sentence-transformers) (12.1.105)\n",
            "Requirement already satisfied: nvidia-cuda-cupti-cu12==12.1.105 in /usr/local/lib/python3.11/dist-packages (from torch>=1.11.0->sentence-transformers) (12.1.105)\n",
            "Requirement already satisfied: nvidia-cudnn-cu12==9.1.0.70 in /usr/local/lib/python3.11/dist-packages (from torch>=1.11.0->sentence-transformers) (9.1.0.70)\n",
            "Requirement already satisfied: nvidia-cublas-cu12==12.1.3.1 in /usr/local/lib/python3.11/dist-packages (from torch>=1.11.0->sentence-transformers) (12.1.3.1)\n",
            "Requirement already satisfied: nvidia-cufft-cu12==11.0.2.54 in /usr/local/lib/python3.11/dist-packages (from torch>=1.11.0->sentence-transformers) (11.0.2.54)\n",
            "Requirement already satisfied: nvidia-curand-cu12==10.3.2.106 in /usr/local/lib/python3.11/dist-packages (from torch>=1.11.0->sentence-transformers) (10.3.2.106)\n",
            "Requirement already satisfied: nvidia-cusolver-cu12==11.4.5.107 in /usr/local/lib/python3.11/dist-packages (from torch>=1.11.0->sentence-transformers) (11.4.5.107)\n",
            "Requirement already satisfied: nvidia-cusparse-cu12==12.1.0.106 in /usr/local/lib/python3.11/dist-packages (from torch>=1.11.0->sentence-transformers) (12.1.0.106)\n",
            "Requirement already satisfied: nvidia-nccl-cu12==2.21.5 in /usr/local/lib/python3.11/dist-packages (from torch>=1.11.0->sentence-transformers) (2.21.5)\n",
            "Requirement already satisfied: nvidia-nvtx-cu12==12.1.105 in /usr/local/lib/python3.11/dist-packages (from torch>=1.11.0->sentence-transformers) (12.1.105)\n",
            "Requirement already satisfied: triton==3.1.0 in /usr/local/lib/python3.11/dist-packages (from torch>=1.11.0->sentence-transformers) (3.1.0)\n",
            "Requirement already satisfied: nvidia-nvjitlink-cu12 in /usr/local/lib/python3.11/dist-packages (from nvidia-cusolver-cu12==11.4.5.107->torch>=1.11.0->sentence-transformers) (12.6.85)\n",
            "Requirement already satisfied: mpmath<1.4,>=1.1.0 in /usr/local/lib/python3.11/dist-packages (from sympy->onnxruntime>=1.14.1->chromadb) (1.3.0)\n",
            "Requirement already satisfied: regex!=2019.12.17 in /usr/local/lib/python3.11/dist-packages (from transformers<5.0.0,>=4.41.0->sentence-transformers) (2024.11.6)\n",
            "Requirement already satisfied: safetensors>=0.4.1 in /usr/local/lib/python3.11/dist-packages (from transformers<5.0.0,>=4.41.0->sentence-transformers) (0.5.2)\n",
            "Requirement already satisfied: click>=8.0.0 in /usr/local/lib/python3.11/dist-packages (from typer>=0.9.0->chromadb) (8.1.8)\n",
            "Requirement already satisfied: shellingham>=1.3.0 in /usr/local/lib/python3.11/dist-packages (from typer>=0.9.0->chromadb) (1.5.4)\n",
            "Requirement already satisfied: httptools>=0.6.3 in /usr/local/lib/python3.11/dist-packages (from uvicorn[standard]>=0.18.3->chromadb) (0.6.4)\n",
            "Requirement already satisfied: python-dotenv>=0.13 in /usr/local/lib/python3.11/dist-packages (from uvicorn[standard]>=0.18.3->chromadb) (1.0.1)\n",
            "Requirement already satisfied: uvloop!=0.15.0,!=0.15.1,>=0.14.0 in /usr/local/lib/python3.11/dist-packages (from uvicorn[standard]>=0.18.3->chromadb) (0.21.0)\n",
            "Requirement already satisfied: watchfiles>=0.13 in /usr/local/lib/python3.11/dist-packages (from uvicorn[standard]>=0.18.3->chromadb) (1.0.4)\n",
            "Requirement already satisfied: websockets>=10.4 in /usr/local/lib/python3.11/dist-packages (from uvicorn[standard]>=0.18.3->chromadb) (14.2)\n",
            "Requirement already satisfied: joblib>=1.2.0 in /usr/local/lib/python3.11/dist-packages (from scikit-learn->sentence-transformers) (1.4.2)\n",
            "Requirement already satisfied: threadpoolctl>=3.1.0 in /usr/local/lib/python3.11/dist-packages (from scikit-learn->sentence-transformers) (3.5.0)\n",
            "Requirement already satisfied: cachetools<6.0,>=2.0.0 in /usr/local/lib/python3.11/dist-packages (from google-auth>=1.0.1->kubernetes>=28.1.0->chromadb) (5.5.1)\n",
            "Requirement already satisfied: pyasn1-modules>=0.2.1 in /usr/local/lib/python3.11/dist-packages (from google-auth>=1.0.1->kubernetes>=28.1.0->chromadb) (0.4.1)\n",
            "Requirement already satisfied: rsa<5,>=3.1.4 in /usr/local/lib/python3.11/dist-packages (from google-auth>=1.0.1->kubernetes>=28.1.0->chromadb) (4.9)\n",
            "Requirement already satisfied: zipp>=3.20 in /usr/local/lib/python3.11/dist-packages (from importlib-metadata<=8.5.0,>=6.0->opentelemetry-api>=1.2.0->chromadb) (3.21.0)\n",
            "Requirement already satisfied: mdurl~=0.1 in /usr/local/lib/python3.11/dist-packages (from markdown-it-py>=2.2.0->rich>=10.11.0->chromadb) (0.1.2)\n",
            "Requirement already satisfied: charset-normalizer<4,>=2 in /usr/local/lib/python3.11/dist-packages (from requests->huggingface-hub>=0.20.0->sentence-transformers) (3.4.1)\n",
            "Requirement already satisfied: sniffio>=1.1 in /usr/local/lib/python3.11/dist-packages (from anyio->httpx>=0.27.0->chromadb) (1.3.1)\n",
            "Requirement already satisfied: humanfriendly>=9.1 in /usr/local/lib/python3.11/dist-packages (from coloredlogs->onnxruntime>=1.14.1->chromadb) (10.0)\n",
            "Requirement already satisfied: MarkupSafe>=2.0 in /usr/local/lib/python3.11/dist-packages (from jinja2->torch>=1.11.0->sentence-transformers) (3.0.2)\n",
            "Requirement already satisfied: pyasn1<0.7.0,>=0.4.6 in /usr/local/lib/python3.11/dist-packages (from pyasn1-modules>=0.2.1->google-auth>=1.0.1->kubernetes>=28.1.0->chromadb) (0.6.1)\n"
          ]
        }
      ]
    },
    {
      "cell_type": "markdown",
      "source": [],
      "metadata": {
        "id": "fIgvdvyREx0d"
      }
    },
    {
      "cell_type": "markdown",
      "source": [
        "## Definição do texto FAQ que será utilizado como base de dados para o modelo."
      ],
      "metadata": {
        "id": "43BFCoIvFVnr"
      }
    },
    {
      "cell_type": "code",
      "source": [
        "texto = \"\"\"\n",
        "Produtos Vendidos:\n",
        "\n",
        "1. Roupas femininas e masculinas:\n",
        "    - Roupas casuais (camisetas, calças, vestidos, etc.)\n",
        "    - Roupas para ocasiões especiais\n",
        "    - Moda sustentável feita com materiais recicláveis e orgânicos\n",
        "2. Acessórios:\n",
        "    - Bolsas e mochilas\n",
        "    - Bijuterias sustentáveis\n",
        "3. Calçados:\n",
        "    - Tênis, sandálias e sapatos confortáveis\n",
        "4. Roupas para atividade física:\n",
        "    - Leggings, camisetas esportivas, shorts, etc.\n",
        "\n",
        "---\n",
        "\n",
        "FAQ - Perguntas Frequentes da ModaZen\n",
        "\n",
        "1. O que a ModaZen vende?\n",
        "    A ModaZen vende roupas femininas e masculinas (casuais, esportivas e para ocasiões especiais), acessórios (bolsas, mochilas e bijuterias sustentáveis), calçados e roupas para atividade física.\n",
        "\n",
        "2. Como faço para comprar na ModaZen?\n",
        "    Para comprar em nosso site, escolha os produtos desejados, adicione ao carrinho e siga para o checkout. No pagamento, escolha a forma de envio e conclua sua compra com segurança.\n",
        "\n",
        "3. Quais formas de pagamento vocês aceitam?\n",
        "    Aceitamos cartão de crédito (Visa, Mastercard, Elo, American Express), boleto bancário e PIX.\n",
        "\n",
        "4. Vocês fazem entregas para todo o Brasil?\n",
        "    Sim, realizamos entregas para todo o território brasileiro. As opções e os custos de frete variam conforme sua localização e a forma de envio escolhida.\n",
        "\n",
        "5. Como posso saber o tamanho correto para mim?\n",
        "    Temos uma tabela de tamanhos detalhada disponível em cada página de produto. Caso tenha dúvidas, entre em contato conosco pelo chat ou e-mail.\n",
        "\n",
        "6. Posso trocar ou devolver um produto?\n",
        "    Sim, você pode solicitar troca ou devolução em até 30 dias após o recebimento do produto, desde que ele esteja em perfeitas condições e com a etiqueta intacta.\n",
        "\n",
        "7. Os produtos da ModaZen são sustentáveis?\n",
        "    Sim, temos uma linha especial de roupas sustentáveis feitas com materiais ecológicos, recicláveis e orgânicos.\n",
        "\n",
        "8. Como posso rastrear meu pedido?\n",
        "    Após o pagamento e envio, você receberá um código de rastreio por e-mail para acompanhar a entrega no site da transportadora.\n",
        "\n",
        "9. Qual é o prazo de entrega?\n",
        "    O prazo de entrega varia conforme seu endereço e a forma de envio escolhida. Em média, as entregas levam de 5 a 10 dias úteis.\n",
        "\n",
        "10. Como posso entrar em contato com o atendimento ao cliente?\n",
        "    Você pode nos contatar pelo chat online, disponível 24 horas, ou pelo e-mail [atendimento@modazen.com.br](mailto:atendimento@modazen.com.br).\n",
        "\n",
        "11. Vocês têm promoções ou descontos?\n",
        "    Sim, frequentemente realizamos promoções e temos descontos especiais. Fique de olho em nossas redes sociais ou cadastre-se na newsletter para receber ofertas.\n",
        "\"\"\""
      ],
      "metadata": {
        "id": "LkukgnEmnSs7"
      },
      "execution_count": 40,
      "outputs": []
    },
    {
      "cell_type": "markdown",
      "source": [
        "## Criamos um documento a partir do texto. No LangChain, um \"Document\" encapsula o conteúdo e metadados\n",
        "- para facilitar a manipulação e processamento de informações.\n",
        "\n",
        "- Poderia usar o “BaseModel”, porém vou optar por usar essa alternativa do Langchain:\n",
        "- A criação do documento é importante para alimentar os sistemas de recuperação de informações (RAG) com dados estruturados, como o conteúdo do texto e metadados associados (autor, fonte, etc.)."
      ],
      "metadata": {
        "id": "x-WGcNG21pnY"
      }
    },
    {
      "cell_type": "code",
      "source": [
        "from langchain.schema import Document\n",
        "\n",
        "documents = [\n",
        "    Document(\n",
        "        page_content = texto,\n",
        "        metadata = {\n",
        "            \"loja\": \"ModaZen\",\n",
        "            \"categoria\": \"E-commerce de roupas e acessórios\",\n",
        "            \"source\": \"https://www.modazen.com.br\"\n",
        "        }\n",
        "    )\n",
        "]"
      ],
      "metadata": {
        "id": "STrT2WtXnZvl"
      },
      "execution_count": 41,
      "outputs": []
    },
    {
      "cell_type": "markdown",
      "source": [
        "## O documento é dividido em pedaços menores (k-chunks) para evitar inserir documentos grandes de uma vez no modelo LLM.\n",
        "### Parâmetros usados:\n",
        " - chunk_size: Define o tamanho máximo de cada pedaço de texto (em caracteres).\n",
        " - chunk_overlap: Define a sobreposição entre pedaços consecutivos, garantindo continuidade e contexto.\n",
        " - length_function: Função usada para calcular o comprimento do texto (normalmente len).\n"
      ],
      "metadata": {
        "id": "LiQucHdZ16Fi"
      }
    },
    {
      "cell_type": "code",
      "source": [
        "from langchain.text_splitter import RecursiveCharacterTextSplitter\n",
        "\n",
        "text_splitter = RecursiveCharacterTextSplitter(\n",
        "    chunk_size = 1000,\n",
        "    chunk_overlap  = 500,\n",
        "    length_function = len,\n",
        ")\n",
        "chunks = text_splitter.split_documents(documents)"
      ],
      "metadata": {
        "id": "poOsz4cfnk0s"
      },
      "execution_count": 42,
      "outputs": []
    },
    {
      "cell_type": "markdown",
      "source": [
        "## Agora, vamos pegar os chunks e armazená-los em um banco de dados vetorial, que permite buscas eficientes baseadas em similaridade de embeddings. Vou usar o ChromaDB neste caso.\n",
        "\n",
        "- Usando o modelo de embeddings do Hugging Face para transformar os documentos em embeddings vetoriais de forma gratuita.\n"
      ],
      "metadata": {
        "id": "VRl_sJfj3QF1"
      }
    },
    {
      "cell_type": "code",
      "source": [
        "from langchain_community.vectorstores.chroma import Chroma\n",
        "from google.colab import userdata\n",
        "from langchain_community.embeddings import HuggingFaceEmbeddings\n",
        "\n",
        "\n",
        "# Inicializar o modelo de embeddings do Hugging Face\n",
        "embeddings = HuggingFaceEmbeddings(model_name=\"sentence-transformers/all-MiniLM-L6-v2\")\n",
        "\n",
        "# Criar o banco de dados vetorial com o Chroma\n",
        "db = Chroma.from_documents(\n",
        "    documents=chunks,  # Os chunks são passados diretamente como documentos\n",
        "    embedding=embeddings,  # Função para gerar os embeddings\n",
        "    persist_directory=\"db\"  # Diretório onde será salvo o banco\n",
        ")\n",
        "\n",
        "# Mensagem de sucesso\n",
        "print(\"Banco de dados Chroma criado com sucesso!\")"
      ],
      "metadata": {
        "id": "kMDed35OopXo",
        "colab": {
          "base_uri": "https://localhost:8080/"
        },
        "outputId": "dfda47cd-2df4-4960-bed2-35f46e639522"
      },
      "execution_count": 43,
      "outputs": [
        {
          "output_type": "stream",
          "name": "stdout",
          "text": [
            "Banco de dados Chroma criado com sucesso!\n"
          ]
        }
      ]
    },
    {
      "cell_type": "markdown",
      "source": [
        "\n",
        "\n",
        "---"
      ],
      "metadata": {
        "id": "S166UCe77Don"
      }
    },
    {
      "cell_type": "code",
      "source": [
        "from langchain_core.prompts import PromptTemplate\n",
        "from langchain_core.output_parsers import StrOutputParser\n",
        "\n",
        "template = PromptTemplate.from_template(\"\"\"\n",
        "Answer the user's query based on the context. If you don't know the answer or the context of not knowing the answer, say you don't know.\n",
        "\n",
        "ALWAYS answer in pt-BR. You are going to answer questions regarding the FAQ of an e-commerce clothing store. Suppose you are a nice but professional Brazilian customer service representative. Answer the questions politely. ALWAYS answer with the source of your knowledge. At the end of the answer always include \"Atenciosamente, [Store name].\"\n",
        "\n",
        "## CONTEXT\n",
        "{context}\n",
        "\n",
        "## USER QUERY\n",
        "{question}\n",
        "\"\"\")"
      ],
      "metadata": {
        "id": "EZ-149z-p_oR"
      },
      "execution_count": 44,
      "outputs": []
    },
    {
      "cell_type": "code",
      "source": [
        "%pip install -qU langchain-groq\n",
        "from langchain_groq import ChatGroq"
      ],
      "metadata": {
        "id": "MpWTeOSKJDnH"
      },
      "execution_count": 45,
      "outputs": []
    },
    {
      "cell_type": "code",
      "source": [
        "from google.colab import userdata\n",
        "userdata.get('GROQ_API_KEY')\n",
        "import os\n",
        "os.environ['GROQ_API_KEY'] = userdata.get('GROQ_API_KEY')"
      ],
      "metadata": {
        "id": "0G02R7LVJ2F2"
      },
      "execution_count": 46,
      "outputs": []
    },
    {
      "cell_type": "markdown",
      "source": [],
      "metadata": {
        "id": "wuiBki47KYp2"
      }
    },
    {
      "cell_type": "code",
      "source": [
        "import re\n",
        "\n",
        "def rag(user_query: str) -> str:\n",
        "    # Recupera os documentos relevantes\n",
        "    context = db.similarity_search_with_relevance_scores(user_query, k=3)\n",
        "    context = list(filter(lambda x: x[1] >= 0.3, context))\n",
        "\n",
        "    if len(context) == 0:\n",
        "        return \"Desculpe, não consigo responder sua pergunta. Você poderia reformular ou tentar algo diferente?\"\n",
        "\n",
        "    # Formata o contexto com os documentos recuperados\n",
        "    context = \"\\n\\n\".join([\n",
        "        (f\"## Documento {k}\\n\" +\n",
        "         doc[0].page_content +\n",
        "         \"\\nSource: \" +\n",
        "         doc[0].metadata.get(\"source\", \"\"))\n",
        "        for k, doc in enumerate(context, start=1)\n",
        "    ])\n",
        "\n",
        "    # Configura o modelo\n",
        "    model = ChatGroq(\n",
        "        model='deepseek-r1-distill-llama-70b',\n",
        "    )\n",
        "\n",
        "    # Define o pipeline do RAG\n",
        "    chain = (template | model | StrOutputParser())\n",
        "\n",
        "    # Executa a cadeia e obtém a resposta\n",
        "    raw_response = chain.invoke({\"context\": context, \"question\": user_query})\n",
        "\n",
        "    # Remove o conteúdo entre <think> e <think/> no retorno\n",
        "    cleaned_response = re.sub(r\"<think>.*?</think>\", \"\", raw_response, flags=re.DOTALL)\n",
        "\n",
        "    return cleaned_response\n"
      ],
      "metadata": {
        "id": "cOJjkCr9qoKX"
      },
      "execution_count": 64,
      "outputs": []
    },
    {
      "cell_type": "code",
      "source": [
        "pergunta = \"Voces vendem roupas?\""
      ],
      "metadata": {
        "id": "U8Mar4mnrwl1"
      },
      "execution_count": 51,
      "outputs": []
    },
    {
      "cell_type": "code",
      "source": [
        "print(rag(pergunta))"
      ],
      "metadata": {
        "colab": {
          "base_uri": "https://localhost:8080/"
        },
        "id": "78Sn9xeGptHf",
        "outputId": "c1f1ce86-feb8-424d-cc0e-06e3d7237974"
      },
      "execution_count": 65,
      "outputs": [
        {
          "output_type": "stream",
          "name": "stdout",
          "text": [
            "\n",
            "\n",
            "Sim, vendemos roupas femininas e masculinas, incluindo roupas casuais, esportivas e para ocasiões especiais. Além disso, oferecemos acessórios, calçados e roupas para atividade física.\n",
            "\n",
            "Fonte: https://www.modazen.com.br\n",
            "\n",
            "Atenciosamente, ModaZen.\n"
          ]
        }
      ]
    }
  ]
}